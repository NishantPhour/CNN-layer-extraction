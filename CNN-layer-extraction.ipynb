{
 "cells": [
  {
   "cell_type": "code",
   "execution_count": null,
   "metadata": {},
   "outputs": [
    {
     "name": "stderr",
     "output_type": "stream",
     "text": [
      " * Running on http://127.0.0.1:8050/ (Press CTRL+C to quit)\n",
      "127.0.0.1 - - [31/Mar/2019 14:23:05] \"\u001b[37mGET / HTTP/1.1\u001b[0m\" 200 -\n",
      "127.0.0.1 - - [31/Mar/2019 14:23:06] \"\u001b[37mGET /_dash-layout HTTP/1.1\u001b[0m\" 200 -\n",
      "127.0.0.1 - - [31/Mar/2019 14:23:06] \"\u001b[37mGET /_dash-dependencies HTTP/1.1\u001b[0m\" 200 -\n",
      "127.0.0.1 - - [31/Mar/2019 14:23:06] \"\u001b[37mPOST /_dash-update-component HTTP/1.1\u001b[0m\" 200 -\n"
     ]
    },
    {
     "name": "stdout",
     "output_type": "stream",
     "text": [
      "inside else\n",
      "['data:image/jpeg;base64,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']\n",
      "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\n",
      "importing Jupyter notebook from FeatureExtractionTRYs.ipynb\n"
     ]
    },
    {
     "name": "stderr",
     "output_type": "stream",
     "text": [
      "Using TensorFlow backend.\n"
     ]
    },
    {
     "data": {
      "text/plain": [
       "<matplotlib.figure.Figure at 0x15a394c9cc0>"
      ]
     },
     "metadata": {},
     "output_type": "display_data"
    },
    {
     "name": "stdout",
     "output_type": "stream",
     "text": [
      "<class 'numpy.ndarray'>\n",
      "Shape of image is:  (224, 224, 3)\n",
      "Adding index axis.\n",
      "Shape of image is:  (1, 224, 224, 3)\n",
      "(1, 224, 224, 3)\n",
      "Max value in tensor is:  248.0\n",
      "Apply normalization.\n",
      "Plotting image:\n",
      "_________________________________________________________________\n",
      "Layer (type)                 Output Shape              Param #   \n",
      "=================================================================\n",
      "input_1 (InputLayer)         (None, None, None, 3)     0         \n",
      "_________________________________________________________________\n",
      "block1_conv1 (Conv2D)        (None, None, None, 64)    1792      \n",
      "_________________________________________________________________\n",
      "block1_conv2 (Conv2D)        (None, None, None, 64)    36928     \n",
      "_________________________________________________________________\n",
      "block1_pool (MaxPooling2D)   (None, None, None, 64)    0         \n",
      "_________________________________________________________________\n",
      "block2_conv1 (Conv2D)        (None, None, None, 128)   73856     \n",
      "_________________________________________________________________\n",
      "block2_conv2 (Conv2D)        (None, None, None, 128)   147584    \n",
      "_________________________________________________________________\n",
      "block2_pool (MaxPooling2D)   (None, None, None, 128)   0         \n",
      "_________________________________________________________________\n",
      "block3_conv1 (Conv2D)        (None, None, None, 256)   295168    \n",
      "_________________________________________________________________\n",
      "block3_conv2 (Conv2D)        (None, None, None, 256)   590080    \n",
      "_________________________________________________________________\n",
      "block3_conv3 (Conv2D)        (None, None, None, 256)   590080    \n",
      "_________________________________________________________________\n",
      "block3_pool (MaxPooling2D)   (None, None, None, 256)   0         \n",
      "_________________________________________________________________\n",
      "block4_conv1 (Conv2D)        (None, None, None, 512)   1180160   \n",
      "_________________________________________________________________\n",
      "block4_conv2 (Conv2D)        (None, None, None, 512)   2359808   \n",
      "_________________________________________________________________\n",
      "block4_conv3 (Conv2D)        (None, None, None, 512)   2359808   \n",
      "_________________________________________________________________\n",
      "block4_pool (MaxPooling2D)   (None, None, None, 512)   0         \n",
      "_________________________________________________________________\n",
      "block5_conv1 (Conv2D)        (None, None, None, 512)   2359808   \n",
      "_________________________________________________________________\n",
      "block5_conv2 (Conv2D)        (None, None, None, 512)   2359808   \n",
      "_________________________________________________________________\n",
      "block5_conv3 (Conv2D)        (None, None, None, 512)   2359808   \n",
      "_________________________________________________________________\n",
      "block5_pool (MaxPooling2D)   (None, None, None, 512)   0         \n",
      "=================================================================\n",
      "Total params: 14,714,688\n",
      "Trainable params: 14,714,688\n",
      "Non-trainable params: 0\n",
      "_________________________________________________________________\n",
      "None\n",
      "input_1\n",
      "block1_conv1\n",
      "block1_conv2\n",
      "block1_pool\n",
      "block2_conv1\n",
      "block2_conv2\n",
      "block2_pool\n",
      "block3_conv1\n",
      "block3_conv2\n",
      "block3_conv3\n",
      "block3_pool\n",
      "block4_conv1\n",
      "block4_conv2\n",
      "block4_conv3\n",
      "block4_pool\n",
      "block5_conv1\n",
      "block5_conv2\n",
      "block5_conv3\n",
      "block5_pool\n"
     ]
    },
    {
     "data": {
      "text/plain": [
       "<matplotlib.figure.Figure at 0x15a451d7588>"
      ]
     },
     "metadata": {},
     "output_type": "display_data"
    },
    {
     "data": {
      "text/plain": [
       "<matplotlib.figure.Figure at 0x15a49457dd8>"
      ]
     },
     "metadata": {},
     "output_type": "display_data"
    },
    {
     "data": {
      "text/plain": [
       "<matplotlib.figure.Figure at 0x15a461afac8>"
      ]
     },
     "metadata": {},
     "output_type": "display_data"
    },
    {
     "data": {
      "text/plain": [
       "<matplotlib.figure.Figure at 0x15a49321748>"
      ]
     },
     "metadata": {},
     "output_type": "display_data"
    },
    {
     "data": {
      "text/plain": [
       "<matplotlib.figure.Figure at 0x15a49362400>"
      ]
     },
     "metadata": {},
     "output_type": "display_data"
    },
    {
     "data": {
      "text/plain": [
       "<matplotlib.figure.Figure at 0x15a49369ef0>"
      ]
     },
     "metadata": {},
     "output_type": "display_data"
    },
    {
     "data": {
      "text/plain": [
       "<matplotlib.figure.Figure at 0x15a451bc128>"
      ]
     },
     "metadata": {},
     "output_type": "display_data"
    },
    {
     "data": {
      "text/plain": [
       "<matplotlib.figure.Figure at 0x15a493cf780>"
      ]
     },
     "metadata": {},
     "output_type": "display_data"
    },
    {
     "data": {
      "text/plain": [
       "<matplotlib.figure.Figure at 0x15a4940c320>"
      ]
     },
     "metadata": {},
     "output_type": "display_data"
    },
    {
     "data": {
      "text/plain": [
       "<matplotlib.figure.Figure at 0x15a4ea8fe80>"
      ]
     },
     "metadata": {},
     "output_type": "display_data"
    },
    {
     "data": {
      "text/plain": [
       "<matplotlib.figure.Figure at 0x15a4eaca470>"
      ]
     },
     "metadata": {},
     "output_type": "display_data"
    },
    {
     "data": {
      "text/plain": [
       "<matplotlib.figure.Figure at 0x15a4eca2f60>"
      ]
     },
     "metadata": {},
     "output_type": "display_data"
    },
    {
     "data": {
      "text/plain": [
       "<matplotlib.figure.Figure at 0x15a4eb05b70>"
      ]
     },
     "metadata": {},
     "output_type": "display_data"
    },
    {
     "data": {
      "text/plain": [
       "<matplotlib.figure.Figure at 0x15a4eb45710>"
      ]
     },
     "metadata": {},
     "output_type": "display_data"
    },
    {
     "data": {
      "text/plain": [
       "<matplotlib.figure.Figure at 0x15a4eb78b00>"
      ]
     },
     "metadata": {},
     "output_type": "display_data"
    },
    {
     "data": {
      "text/plain": [
       "<matplotlib.figure.Figure at 0x15a4ebb96a0>"
      ]
     },
     "metadata": {},
     "output_type": "display_data"
    },
    {
     "data": {
      "text/plain": [
       "<matplotlib.figure.Figure at 0x15a4ebfe2b0>"
      ]
     },
     "metadata": {},
     "output_type": "display_data"
    },
    {
     "data": {
      "text/plain": [
       "<matplotlib.figure.Figure at 0x15a4ec34e10>"
      ]
     },
     "metadata": {},
     "output_type": "display_data"
    },
    {
     "data": {
      "text/plain": [
       "<matplotlib.figure.Figure at 0x15a4ee731d0>"
      ]
     },
     "metadata": {},
     "output_type": "display_data"
    },
    {
     "name": "stderr",
     "output_type": "stream",
     "text": [
      "127.0.0.1 - - [31/Mar/2019 14:23:27] \"\u001b[37mPOST /_dash-update-component HTTP/1.1\u001b[0m\" 200 -\n"
     ]
    }
   ],
   "source": [
    "import base64\n",
    "import datetime\n",
    "import io\n",
    "\n",
    "import dash\n",
    "from dash.dependencies import Input, Output, State\n",
    "import dash_html_components as html\n",
    "import dash_core_components as dcc\n",
    "import import_ipynb\n",
    "\n",
    "\n",
    "external_stylesheets = ['https://codepen.io/chriddyp/pen/bWLwgP.css']\n",
    "\n",
    "app = dash.Dash(__name__, external_stylesheets=external_stylesheets)\n",
    "\n",
    "app.layout =  html.Div([\n",
    "    html.H1('CNN INTRA LAYER VISUALIZATION',\n",
    "           style={\n",
    "            'textAlign': 'center',\n",
    "            'margin': '10px'\n",
    "        }\n",
    "           ),\n",
    "    \n",
    "    dcc.Upload(\n",
    "        id='upload-image',\n",
    "        children=html.Div([\n",
    "            'Drag and Drop or ',\n",
    "            html.A('Select Files')\n",
    "        ]),\n",
    "        style={\n",
    "            'max-width': '100%',\n",
    "            'height': '60px',\n",
    "            'lineHeight': '60px',\n",
    "            'borderWidth': '1px',\n",
    "            'borderStyle': 'dashed',\n",
    "            'borderRadius': '5px',\n",
    "            'textAlign': 'center',\n",
    "            'margin': '10px'\n",
    "        },\n",
    "        # Allow multiple files to be uploaded\n",
    "        multiple=True\n",
    "    ),\n",
    "   \n",
    "    html.Div([\n",
    "    html.Div( id='output-image-upload',\n",
    "           style={\n",
    "            'textAlign': 'center',\n",
    "            'margin': '10px'\n",
    "        })]\n",
    "),\n",
    "    \n",
    "            \n",
    "])\n",
    "\n",
    "\n",
    "@app.callback(Output('output-image-upload', 'children'),\n",
    "              [Input('upload-image', 'contents')],\n",
    "              [State('upload-image', 'filename')])\n",
    "def update_output(content,new_filename):\n",
    "    if (content is not None):\n",
    "#         print(\"inside if\")\n",
    "        print(content)\n",
    "        string = content[0].split(';base64,')[-1]\n",
    "        imgdata = base64.b64decode(string)\n",
    "        print(string)\n",
    "        filename = 'some_image.jpg'  # I assume you have a way of picking unique filenames\n",
    "        with open(filename, 'wb') as f:\n",
    "            f.write(imgdata)\n",
    "\n",
    "#         #image = Image.fromstring('RGB',(200,200),decodestring(string))\n",
    "#         basewidth = 224\n",
    "#         img = Image.open('some_image.png')\n",
    "#         img=img.convert('RGB')\n",
    "#         wpercent = (basewidth / float(img.size[0]))\n",
    "#         hsize = int((float(img.size[1]) * float(wpercent)))\n",
    "#         img = img.resize((224, 224),resample=0)\n",
    "#         img.save('some_image.png')\n",
    "        img1=''\n",
    "        with open(\"some_image.jpg\", \"rb\") as imageFile:\n",
    "            img1=base64.b64encode(imageFile.read()).decode(\"ascii\")\n",
    "            import FeatureExtractionTRYs\n",
    "        ls=[]\n",
    "        new=[\"block1_conv1\",\n",
    "\"block1_conv2\",\n",
    "\"block1_pool\",\n",
    "\"block2_conv1\",\n",
    "\"block2_conv2\",\n",
    "\"block2_pool\",\n",
    "\"block3_conv1\",\n",
    "\"block3_conv2\",\n",
    "\"block3_conv3\",\n",
    "\"block3_pool\",\n",
    "\"block4_conv1\",\n",
    "\"block4_conv2\",\n",
    "\"block4_conv3\",\n",
    "\"block4_pool\",\n",
    "\"block5_conv1\",\n",
    "\"block5_conv2\",\n",
    "\"block5_conv3\",\n",
    "\"block5_pool\"]\n",
    "        ls.append(html.Img(src='data:image/jpg;base64,{}'.format(img1)))\n",
    "        j=0\n",
    "        for i in range(18):\n",
    "            ls.append(new[j])\n",
    "            im=\"guided_backprop\"+str(i)\n",
    "            \n",
    "            imag2=''\n",
    "            \n",
    "            with open(im+\".jpg\", \"rb\") as imageFile:\n",
    "                imag2=base64.b64encode(imageFile.read()).decode(\"ascii\")\n",
    "                ls.append(html.Img(src='data:image/jpg;base64,{}'.format(imag2)))\n",
    "            \n",
    "            j=j+1\n",
    "        return ls\n",
    "    else:\n",
    "        print(\"inside else\")\n",
    "#         return []\n",
    "\n",
    "\n",
    "if __name__ == '__main__':\n",
    "    app.run_server(debug=False)\n",
    "    "
   ]
  },
  {
   "cell_type": "code",
   "execution_count": null,
   "metadata": {},
   "outputs": [],
   "source": [
    "print(\"e\")"
   ]
  }
 ],
 "metadata": {
  "kernelspec": {
   "display_name": "Python 3",
   "language": "python",
   "name": "python3"
  },
  "language_info": {
   "codemirror_mode": {
    "name": "ipython",
    "version": 3
   },
   "file_extension": ".py",
   "mimetype": "text/x-python",
   "name": "python",
   "nbconvert_exporter": "python",
   "pygments_lexer": "ipython3",
   "version": "3.6.4"
  }
 },
 "nbformat": 4,
 "nbformat_minor": 2
}
